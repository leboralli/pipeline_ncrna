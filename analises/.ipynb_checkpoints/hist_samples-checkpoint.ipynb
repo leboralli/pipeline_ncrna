{
 "cells": [
  {
   "cell_type": "markdown",
   "metadata": {},
   "source": [
    "## Script para ler os reports em json do fastp e plotar um histograma"
   ]
  },
  {
   "cell_type": "code",
   "execution_count": 26,
   "metadata": {},
   "outputs": [
    {
     "ename": "ModuleNotFoundError",
     "evalue": "No module named 'seaborn'",
     "output_type": "error",
     "traceback": [
      "\u001b[0;31m---------------------------------------------------------------------------\u001b[0m",
      "\u001b[0;31mModuleNotFoundError\u001b[0m                       Traceback (most recent call last)",
      "\u001b[0;32m<ipython-input-26-94fe09d41111>\u001b[0m in \u001b[0;36m<module>\u001b[0;34m\u001b[0m\n\u001b[1;32m      3\u001b[0m \u001b[0;32mimport\u001b[0m \u001b[0msys\u001b[0m\u001b[0;34m\u001b[0m\u001b[0;34m\u001b[0m\u001b[0m\n\u001b[1;32m      4\u001b[0m \u001b[0;32mimport\u001b[0m \u001b[0mos\u001b[0m\u001b[0;34m\u001b[0m\u001b[0;34m\u001b[0m\u001b[0m\n\u001b[0;32m----> 5\u001b[0;31m \u001b[0;32mimport\u001b[0m \u001b[0mseaborn\u001b[0m \u001b[0;32mas\u001b[0m \u001b[0msns\u001b[0m\u001b[0;34m\u001b[0m\u001b[0;34m\u001b[0m\u001b[0m\n\u001b[0m",
      "\u001b[0;31mModuleNotFoundError\u001b[0m: No module named 'seaborn'"
     ]
    }
   ],
   "source": [
    "import json\n",
    "import glob\n",
    "import sys\n",
    "import os\n",
    "import seaborn as sns"
   ]
  },
  {
   "cell_type": "markdown",
   "metadata": {},
   "source": [
    "Arquivo teste para pegar os dados em json"
   ]
  },
  {
   "cell_type": "code",
   "execution_count": 9,
   "metadata": {},
   "outputs": [
    {
     "name": "stdout",
     "output_type": "stream",
     "text": [
      "34476986\n"
     ]
    }
   ],
   "source": [
    "with open('/home/boralli/workdir/pipeline_v4/LOGS/FASTP_LOG/R2809_D2A01ACXX_TAATGCGC_L005_.json') as f:\n",
    "    exemplo = json.load(f)\n",
    "    \n",
    "#for i in exemplo['summary']['after_filtering']['total_reads']:\n",
    "#     print (i)\n",
    "print (exemplo['summary']['after_filtering']['total_reads'])"
   ]
  },
  {
   "cell_type": "code",
   "execution_count": 25,
   "metadata": {},
   "outputs": [
    {
     "name": "stdout",
     "output_type": "stream",
     "text": [
      "[44922898, 40170560, 61735512, 145948014, 94062824, 64385444, 84349144, 34304004, 46550114, 60779562, 41611692, 39868556, 21055152, 39514256, 21249862, 74909876, 44331118, 85602402, 47052796, 10340662, 82710414, 82079232, 82948894, 49725670, 75619842, 6368936, 168853740, 101533784, 92637684, 22550392, 50963660, 53037644, 65115856, 88409572, 36614926, 106772742, 63456598, 54853280, 20230422, 20726116, 23568256, 68803962, 113880898, 30925730, 51145728, 47784376, 57602716, 25633320, 88043462, 85348844, 109316596, 97349240, 23120528, 27424338, 31767848, 76126324, 28059916, 47451334, 27335168, 19271338, 53303804, 12391034, 68772954, 55372652, 79026002, 44011608, 12097184, 74484338, 75526196, 66672846, 44172850, 110495048, 49386500, 45095796, 69867182, 91841880, 53893556, 40987462, 29825876, 59136464, 27278138, 94353864, 151586488, 15132878, 165897704, 64004222, 73178968, 24544954, 62490302, 10460292, 46622242, 30495200, 53913606, 103797148, 17072272, 78913634, 102336478, 68853518, 30471330, 57562378, 34980434, 66636964, 42797740, 37274500, 73323954, 71171856, 41389712, 81379778, 45529792, 13655126, 72156590, 32108914, 67370586, 71316588, 65123818, 34476986, 12018798, 35346286, 28359628, 67601164, 54189644, 37977804, 21817672, 46537062, 24316876, 36106940, 23620078, 57141178, 58709270, 18285308, 2620908, 88861576, 33184958, 39805202, 11726516, 50634880, 77964744, 59627452, 52608158, 30639098, 28778550, 69739914, 92818740, 48685348, 28014882, 25189330, 27360188, 62678158, 58113382, 92876596, 67822778, 44744386, 26133194, 35532628, 34118910, 22117434, 15491672, 36175474, 24375526, 30662310, 31563330, 68185126, 46136910, 27085998, 46202668, 32202882, 68639708, 87822182, 24372724]\n"
     ]
    }
   ],
   "source": [
    "path = '/home/boralli/workdir/pipeline_v4/LOGS/FASTP_LOG/'\n",
    "list_values = []\n",
    "for filename in glob.glob(os.path.join(path, '*.json')):\n",
    "    with open(filename) as f:\n",
    "        file = json.load(f)\n",
    "        list_values.append(file['summary']['after_filtering']['total_reads'])\n",
    "        #print (file['summary']['after_filtering']['total_reads'])\n",
    "        \n",
    "print (list_values)"
   ]
  }
 ],
 "metadata": {
  "kernelspec": {
   "display_name": "Python 3",
   "language": "python",
   "name": "python3"
  },
  "language_info": {
   "codemirror_mode": {
    "name": "ipython",
    "version": 3
   },
   "file_extension": ".py",
   "mimetype": "text/x-python",
   "name": "python",
   "nbconvert_exporter": "python",
   "pygments_lexer": "ipython3",
   "version": "3.8.5"
  }
 },
 "nbformat": 4,
 "nbformat_minor": 4
}
