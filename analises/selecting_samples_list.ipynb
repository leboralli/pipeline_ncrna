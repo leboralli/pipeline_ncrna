{
 "cells": [
  {
   "cell_type": "code",
<<<<<<< HEAD
   "execution_count": 1,
   "id": "silent-capability",
=======
   "execution_count": 2,
   "id": "mechanical-component",
>>>>>>> 8b4f81df57c546bddbaa98b41c72662dc3be2d75
   "metadata": {},
   "outputs": [],
   "source": [
    "import pandas as pd"
   ]
  },
  {
   "cell_type": "code",
<<<<<<< HEAD
   "execution_count": 2,
   "id": "treated-straight",
=======
   "execution_count": 3,
   "id": "bright-removal",
>>>>>>> 8b4f81df57c546bddbaa98b41c72662dc3be2d75
   "metadata": {},
   "outputs": [
    {
     "data": {
      "text/html": [
       "<div>\n",
       "<style scoped>\n",
       "    .dataframe tbody tr th:only-of-type {\n",
       "        vertical-align: middle;\n",
       "    }\n",
       "\n",
       "    .dataframe tbody tr th {\n",
       "        vertical-align: top;\n",
       "    }\n",
       "\n",
       "    .dataframe thead th {\n",
       "        text-align: right;\n",
       "    }\n",
       "</style>\n",
       "<table border=\"1\" class=\"dataframe\">\n",
       "  <thead>\n",
       "    <tr style=\"text-align: right;\">\n",
       "      <th></th>\n",
       "      <th>Unnamed: 0</th>\n",
       "      <th>Name</th>\n",
       "      <th>GBs</th>\n",
       "      <th>id_syn</th>\n",
       "      <th>IDs</th>\n",
       "      <th>TotalReads</th>\n",
       "      <th>Passed?</th>\n",
       "      <th>Phenotype</th>\n",
       "    </tr>\n",
       "  </thead>\n",
       "  <tbody>\n",
       "    <tr>\n",
       "      <th>0</th>\n",
       "      <td>0</td>\n",
       "      <td>R2809_D2A01ACXX_TAATGCGC_L005_R1_001.fastq.gz</td>\n",
       "      <td>1.685 GB</td>\n",
       "      <td>syn8238085</td>\n",
       "      <td>R2809</td>\n",
       "      <td>34476986.0</td>\n",
       "      <td>Yes</td>\n",
       "      <td>Schizo</td>\n",
       "    </tr>\n",
       "    <tr>\n",
       "      <th>1</th>\n",
       "      <td>1</td>\n",
       "      <td>R2809_D2A01ACXX_TAATGCGC_L005_R2_001.fastq.gz</td>\n",
       "      <td>1.722 GB</td>\n",
       "      <td>syn8238091</td>\n",
       "      <td>R2809</td>\n",
       "      <td>34476986.0</td>\n",
       "      <td>Yes</td>\n",
       "      <td>Schizo</td>\n",
       "    </tr>\n",
       "    <tr>\n",
       "      <th>2</th>\n",
       "      <td>2</td>\n",
       "      <td>R2809_D2A01ACXX_TAATGCGC_L006_R1_001.fastq.gz</td>\n",
       "      <td>1.71 GB</td>\n",
       "      <td>syn8238094</td>\n",
       "      <td>R2809</td>\n",
       "      <td>34476986.0</td>\n",
       "      <td>Yes</td>\n",
       "      <td>Schizo</td>\n",
       "    </tr>\n",
       "    <tr>\n",
       "      <th>3</th>\n",
       "      <td>3</td>\n",
       "      <td>R2809_D2A01ACXX_TAATGCGC_L006_R2_001.fastq.gz</td>\n",
       "      <td>1.75 GB</td>\n",
       "      <td>syn8238101</td>\n",
       "      <td>R2809</td>\n",
       "      <td>34476986.0</td>\n",
       "      <td>Yes</td>\n",
       "      <td>Schizo</td>\n",
       "    </tr>\n",
       "    <tr>\n",
       "      <th>4</th>\n",
       "      <td>4</td>\n",
       "      <td>R2809_D2A01ACXX_TAATGCGC_L007_R1_001.fastq.gz</td>\n",
       "      <td>1.7 GB</td>\n",
       "      <td>syn8238102</td>\n",
       "      <td>R2809</td>\n",
       "      <td>34476986.0</td>\n",
       "      <td>Yes</td>\n",
       "      <td>Schizo</td>\n",
       "    </tr>\n",
       "    <tr>\n",
       "      <th>5</th>\n",
       "      <td>5</td>\n",
       "      <td>R2809_D2A01ACXX_TAATGCGC_L007_R2_001.fastq.gz</td>\n",
       "      <td>1.731 GB</td>\n",
       "      <td>syn8238103</td>\n",
       "      <td>R2809</td>\n",
       "      <td>34476986.0</td>\n",
       "      <td>Yes</td>\n",
       "      <td>Schizo</td>\n",
       "    </tr>\n",
       "    <tr>\n",
       "      <th>6</th>\n",
       "      <td>6</td>\n",
       "      <td>R2809_D2A01ACXX_TAATGCGC_L008_R1_001.fastq.gz</td>\n",
       "      <td>1.649 GB</td>\n",
       "      <td>syn8238104</td>\n",
       "      <td>R2809</td>\n",
       "      <td>34476986.0</td>\n",
       "      <td>Yes</td>\n",
       "      <td>Schizo</td>\n",
       "    </tr>\n",
       "    <tr>\n",
       "      <th>7</th>\n",
       "      <td>7</td>\n",
       "      <td>R2809_D2A01ACXX_TAATGCGC_L008_R2_001.fastq.gz</td>\n",
       "      <td>1.677 GB</td>\n",
       "      <td>syn8238105</td>\n",
       "      <td>R2809</td>\n",
       "      <td>34476986.0</td>\n",
       "      <td>Yes</td>\n",
       "      <td>Schizo</td>\n",
       "    </tr>\n",
       "    <tr>\n",
       "      <th>24</th>\n",
       "      <td>24</td>\n",
       "      <td>R2826_C00JVACXX_TGACCA_L001_R1_001.fastq.gz</td>\n",
       "      <td>3.184 GB</td>\n",
       "      <td>syn8232353</td>\n",
       "      <td>R2826</td>\n",
       "      <td>60779562.0</td>\n",
       "      <td>Yes</td>\n",
       "      <td>Control</td>\n",
       "    </tr>\n",
       "    <tr>\n",
       "      <th>25</th>\n",
       "      <td>25</td>\n",
       "      <td>R2826_C00JVACXX_TGACCA_L001_R2_001.fastq.gz</td>\n",
       "      <td>3.195 GB</td>\n",
       "      <td>syn8232354</td>\n",
       "      <td>R2826</td>\n",
       "      <td>60779562.0</td>\n",
       "      <td>Yes</td>\n",
       "      <td>Control</td>\n",
       "    </tr>\n",
       "  </tbody>\n",
       "</table>\n",
       "</div>"
      ],
      "text/plain": [
       "    Unnamed: 0                                           Name       GBs  \\\n",
       "0            0  R2809_D2A01ACXX_TAATGCGC_L005_R1_001.fastq.gz  1.685 GB   \n",
       "1            1  R2809_D2A01ACXX_TAATGCGC_L005_R2_001.fastq.gz  1.722 GB   \n",
       "2            2  R2809_D2A01ACXX_TAATGCGC_L006_R1_001.fastq.gz   1.71 GB   \n",
       "3            3  R2809_D2A01ACXX_TAATGCGC_L006_R2_001.fastq.gz   1.75 GB   \n",
       "4            4  R2809_D2A01ACXX_TAATGCGC_L007_R1_001.fastq.gz    1.7 GB   \n",
       "5            5  R2809_D2A01ACXX_TAATGCGC_L007_R2_001.fastq.gz  1.731 GB   \n",
       "6            6  R2809_D2A01ACXX_TAATGCGC_L008_R1_001.fastq.gz  1.649 GB   \n",
       "7            7  R2809_D2A01ACXX_TAATGCGC_L008_R2_001.fastq.gz  1.677 GB   \n",
       "24          24    R2826_C00JVACXX_TGACCA_L001_R1_001.fastq.gz  3.184 GB   \n",
       "25          25    R2826_C00JVACXX_TGACCA_L001_R2_001.fastq.gz  3.195 GB   \n",
       "\n",
       "        id_syn    IDs  TotalReads Passed? Phenotype  \n",
       "0   syn8238085  R2809  34476986.0     Yes    Schizo  \n",
       "1   syn8238091  R2809  34476986.0     Yes    Schizo  \n",
       "2   syn8238094  R2809  34476986.0     Yes    Schizo  \n",
       "3   syn8238101  R2809  34476986.0     Yes    Schizo  \n",
       "4   syn8238102  R2809  34476986.0     Yes    Schizo  \n",
       "5   syn8238103  R2809  34476986.0     Yes    Schizo  \n",
       "6   syn8238104  R2809  34476986.0     Yes    Schizo  \n",
       "7   syn8238105  R2809  34476986.0     Yes    Schizo  \n",
       "24  syn8232353  R2826  60779562.0     Yes   Control  \n",
       "25  syn8232354  R2826  60779562.0     Yes   Control  "
      ]
     },
     "execution_count": 3,
     "metadata": {},
     "output_type": "execute_result"
    }
   ],
   "source": [
    "file = pd.read_csv('tabela_allIDs_synapse_complete.csv')\n",
    "file = file.dropna()\n",
    "file.head(10)"
   ]
  },
  {
   "cell_type": "code",
<<<<<<< HEAD
   "execution_count": 26,
   "id": "applicable-killing",
=======
   "execution_count": 4,
   "id": "meaning-alberta",
>>>>>>> 8b4f81df57c546bddbaa98b41c72662dc3be2d75
   "metadata": {},
   "outputs": [
    {
     "ename": "FileNotFoundError",
     "evalue": "[Errno 2] No such file or directory: '/home/leboralli/phd_unifesp/samples_30kkreads.csv'",
     "output_type": "error",
     "traceback": [
      "\u001b[1;31m---------------------------------------------------------------------------\u001b[0m",
      "\u001b[1;31mFileNotFoundError\u001b[0m                         Traceback (most recent call last)",
      "\u001b[1;32m<ipython-input-4-0bc0239c117d>\u001b[0m in \u001b[0;36m<module>\u001b[1;34m\u001b[0m\n\u001b[1;32m----> 1\u001b[1;33m \u001b[1;32mwith\u001b[0m \u001b[0mopen\u001b[0m\u001b[1;33m(\u001b[0m\u001b[1;34m'/home/leboralli/phd_unifesp/samples_30kkreads.csv'\u001b[0m\u001b[1;33m)\u001b[0m \u001b[1;32mas\u001b[0m \u001b[0mf\u001b[0m\u001b[1;33m:\u001b[0m\u001b[1;33m\u001b[0m\u001b[1;33m\u001b[0m\u001b[0m\n\u001b[0m\u001b[0;32m      2\u001b[0m     \u001b[0mfileSamples\u001b[0m \u001b[1;33m=\u001b[0m \u001b[0mpd\u001b[0m\u001b[1;33m.\u001b[0m\u001b[0mread_csv\u001b[0m\u001b[1;33m(\u001b[0m\u001b[0mf\u001b[0m\u001b[1;33m,\u001b[0m \u001b[0msep\u001b[0m\u001b[1;33m=\u001b[0m\u001b[1;34m','\u001b[0m\u001b[1;33m)\u001b[0m\u001b[1;33m\u001b[0m\u001b[1;33m\u001b[0m\u001b[0m\n\u001b[0;32m      3\u001b[0m \u001b[0mfileSamples\u001b[0m\u001b[1;33m.\u001b[0m\u001b[0mhead\u001b[0m\u001b[1;33m(\u001b[0m\u001b[1;36m60\u001b[0m\u001b[1;33m)\u001b[0m\u001b[1;33m\u001b[0m\u001b[1;33m\u001b[0m\u001b[0m\n",
      "\u001b[1;31mFileNotFoundError\u001b[0m: [Errno 2] No such file or directory: '/home/leboralli/phd_unifesp/samples_30kkreads.csv'"
     ]
    }
   ],
   "source": [
    "with open('/home/leboralli/phd_unifesp/samples_30kkreads.csv') as f:\n",
    "    fileSamples = pd.read_csv(f, sep=',')\n",
    "fileSamples.head(60)"
   ]
  },
  {
   "cell_type": "code",
<<<<<<< HEAD
   "execution_count": 36,
   "id": "domestic-safety",
   "metadata": {},
   "outputs": [
    {
     "name": "stdout",
     "output_type": "stream",
     "text": [
      "       IDs      id_syn\n",
      "122  R2890  syn8231288\n",
      "123  R2890  syn8231293\n",
      "124  R2890  syn8231295\n",
      "125  R2890  syn8231289\n",
      "126  R2890  syn8231294\n",
      "127  R2890  syn8231296\n",
      "128  R2890  syn8231297\n",
      "129  R2890  syn8231298\n",
      "130  R2890  syn8231299\n",
      "131  R2890  syn8231300\n"
     ]
    },
    {
     "data": {
      "text/plain": [
       "['syn8231288',\n",
       " 'syn8231293',\n",
       " 'syn8231295',\n",
       " 'syn8231289',\n",
       " 'syn8231294',\n",
       " 'syn8231296',\n",
       " 'syn8231297',\n",
       " 'syn8231298',\n",
       " 'syn8231299',\n",
       " 'syn8231300']"
      ]
     },
     "execution_count": 36,
=======
   "execution_count": 20,
   "id": "fuzzy-wound",
   "metadata": {},
   "outputs": [
    {
     "data": {
      "text/plain": [
       "['syn8229674', 'syn8229682']"
      ]
     },
     "execution_count": 20,
>>>>>>> 8b4f81df57c546bddbaa98b41c72662dc3be2d75
     "metadata": {},
     "output_type": "execute_result"
    }
   ],
   "source": [
    "filtrado = file[['IDs','id_syn']]\n",
<<<<<<< HEAD
    "print(filtrado.loc[filtrado['IDs'] == 'R2890'])\n",
    "resultado = filtrado.loc[filtrado['IDs'] == 'R2890']\n",
=======
    "# print(filtrado.loc[filtrado['IDs'] == 'R3373'])\n",
    "resultado = filtrado.loc[filtrado['IDs'] == 'R3444']\n",
>>>>>>> 8b4f81df57c546bddbaa98b41c72662dc3be2d75
    "list(resultado['id_syn'])"
   ]
  }
 ],
 "metadata": {
  "kernelspec": {
   "display_name": "Python 3",
   "language": "python",
   "name": "python3"
  },
  "language_info": {
   "codemirror_mode": {
    "name": "ipython",
    "version": 3
   },
   "file_extension": ".py",
   "mimetype": "text/x-python",
   "name": "python",
   "nbconvert_exporter": "python",
   "pygments_lexer": "ipython3",
   "version": "3.8.7"
  }
 },
 "nbformat": 4,
 "nbformat_minor": 5
}
