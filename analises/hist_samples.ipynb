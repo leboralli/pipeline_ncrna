{
 "cells": [
  {
   "cell_type": "markdown",
   "metadata": {},
   "source": [
    "## Script para ler os reports em json do fastp e plotar um histograma"
   ]
  },
  {
   "cell_type": "code",
   "execution_count": 31,
   "metadata": {},
   "outputs": [],
   "source": [
    "import json\n",
    "import glob\n",
    "import sys\n",
    "import os\n",
    "import re\n",
    "import seaborn as sns\n",
    "import pandas as pd\n",
    "import matplotlib.pyplot as plt\n",
    "%matplotlib inline"
   ]
  },
  {
   "cell_type": "markdown",
   "metadata": {},
   "source": [
    "Arquivo teste para pegar os dados em json"
   ]
  },
  {
   "cell_type": "code",
   "execution_count": 4,
   "metadata": {},
   "outputs": [
    {
     "name": "stdout",
     "output_type": "stream",
     "text": [
      "{'before_filtering': {'total_reads': 36746246, 'total_bases': 3674624600, 'q20_bases': 3476966256, 'q30_bases': 3269362255, 'q20_rate': 0.94621, 'q30_rate': 0.889713, 'read1_mean_length': 100, 'read2_mean_length': 100, 'gc_content': 0.469739}, 'after_filtering': {'total_reads': 34476986, 'total_bases': 3440409902, 'q20_bases': 3331805575, 'q30_bases': 3147328337, 'q20_rate': 0.968433, 'q30_rate': 0.914812, 'read1_mean_length': 99, 'read2_mean_length': 99, 'gc_content': 0.467833}}\n"
     ]
    }
   ],
   "source": [
    "with open('/home/boralli/workdir/pipeline_v4/LOGS/FASTP_LOG/R2809_D2A01ACXX_TAATGCGC_L005_.json') as f:\n",
    "    exemplo = json.load(f)\n",
    "    \n",
    "#for i in exemplo['summary']['after_filtering']['total_reads']:\n",
    "#     print (i)\n",
    "print (exemplo['summary'])\n",
    "#print (exemplo)"
   ]
  },
  {
   "cell_type": "code",
   "execution_count": 16,
   "metadata": {},
   "outputs": [],
   "source": [
    "path = '/home/boralli/workdir/pipeline_v4/LOGS/FASTP_LOG/'"
   ]
  },
  {
   "cell_type": "code",
   "execution_count": 6,
   "metadata": {},
   "outputs": [
    {
     "name": "stdout",
     "output_type": "stream",
     "text": [
      "[44922898, 40170560, 61735512, 145948014, 94062824, 64385444, 84349144, 34304004, 46550114, 60779562, 41611692, 39868556, 21055152, 39514256, 21249862, 74909876, 44331118, 85602402, 47052796, 10340662, 82710414, 82079232, 82948894, 49725670, 75619842, 6368936, 168853740, 101533784, 92637684, 22550392, 50963660, 53037644, 65115856, 88409572, 36614926, 106772742, 63456598, 54853280, 20230422, 20726116, 23568256, 68803962, 113880898, 30925730, 51145728, 47784376, 57602716, 25633320, 88043462, 85348844, 109316596, 97349240, 23120528, 27424338, 31767848, 76126324, 28059916, 47451334, 27335168, 19271338, 53303804, 12391034, 68772954, 55372652, 79026002, 44011608, 12097184, 74484338, 75526196, 66672846, 44172850, 110495048, 49386500, 45095796, 69867182, 91841880, 53893556, 40987462, 29825876, 59136464, 27278138, 94353864, 151586488, 15132878, 165897704, 64004222, 73178968, 24544954, 62490302, 10460292, 46622242, 30495200, 53913606, 103797148, 17072272, 78913634, 102336478, 68853518, 30471330, 57562378, 34980434, 66636964, 42797740, 37274500, 73323954, 71171856, 41389712, 81379778, 45529792, 13655126, 72156590, 32108914, 67370586, 71316588, 65123818, 34476986, 12018798, 35346286, 28359628, 67601164, 54189644, 37977804, 21817672, 46537062, 24316876, 36106940, 23620078, 57141178, 58709270, 18285308, 2620908, 88861576, 33184958, 39805202, 11726516, 50634880, 77964744, 59627452, 52608158, 30639098, 28778550, 69739914, 92818740, 48685348, 28014882, 25189330, 27360188, 62678158, 58113382, 92876596, 67822778, 44744386, 26133194, 35532628, 34118910, 22117434, 15491672, 36175474, 24375526, 30662310, 31563330, 68185126, 46136910, 27085998, 46202668, 32202882, 68639708, 87822182, 24372724]\n"
     ]
    }
   ],
   "source": [
    "list_values = []\n",
    "for filename in glob.glob(os.path.join(path, '*.json')):\n",
    "    with open(filename) as f:\n",
    "        file = json.load(f)\n",
    "        list_values.append(file['summary']['after_filtering']['total_reads'])\n",
    "        #print (file['summary']['after_filtering']['total_reads'])\n",
    "        \n",
    "print (list_values)"
   ]
  },
  {
   "cell_type": "code",
   "execution_count": null,
   "metadata": {},
   "outputs": [],
   "source": [
    "lista_ids = []\n",
    "for filename in glob.glob(os.path.join(path, '*.json')):\n",
    "    regexList = re.findall('R\\d\\d\\d\\d_', filename)\n",
    "    print (regexList)\n",
    "    lista_ids.extend(regexList)\n",
    "    \n",
    "print (lista_ids)"
   ]
  },
  {
   "cell_type": "code",
   "execution_count": 30,
   "metadata": {},
   "outputs": [
    {
     "name": "stdout",
     "output_type": "stream",
     "text": [
      "R4010_ 21055152\n",
      "R3395_ 21249862\n",
      "R4357_ 10340662\n",
      "R2962_ 6368936\n",
      "R4179_ 22550392\n",
      "R4424_ 20230422\n",
      "R4235_ 20726116\n",
      "R4175_ 23568256\n",
      "R3673_ 25633320\n",
      "R3555_ 23120528\n",
      "R4227_ 27424338\n",
      "R3978_ 28059916\n",
      "R3996_ 27335168\n",
      "R3646_ 19271338\n",
      "R2836_ 12391034\n",
      "R5627_ 12097184\n",
      "R3016_ 29825876\n",
      "R2948_ 27278138\n",
      "R3611_ 15132878\n",
      "R4326_ 24544954\n",
      "R5863_ 10460292\n",
      "R3506_ 17072272\n",
      "R4362_ 13655126\n",
      "R3602_ 12018798\n",
      "R4225_ 28359628\n",
      "R3935_ 21817672\n",
      "R2945_ 24316876\n",
      "R4048_ 23620078\n",
      "R5623_ 18285308\n",
      "R3375_ 2620908\n",
      "R2896_ 11726516\n",
      "R5592_ 28778550\n",
      "R2890_ 28014882\n",
      "R3929_ 25189330\n",
      "R3991_ 27360188\n",
      "R4203_ 26133194\n",
      "R3901_ 22117434\n",
      "R4420_ 15491672\n",
      "R5597_ 24375526\n",
      "R3985_ 27085998\n",
      "R4112_ 24372724\n"
     ]
    }
   ],
   "source": [
    "#Criando um dicionario\n",
    "dicionario = dict(zip(lista_ids, list_values))\n",
    "# print (dicionario)\n",
    "for key, value in dicionario.items():\n",
    "    if value < 30000000:\n",
    "        print (key, value)"
   ]
  },
  {
   "cell_type": "code",
   "execution_count": 35,
   "metadata": {},
   "outputs": [],
   "source": [
    "df_ids = pd.DataFrame(list(dicionario.items()), columns=['IDs', 'TotalReads'])\n",
    "df_ids.sort_values(by=['IDs'], inplace=True)\n",
    "df_ids.to_csv('/home/boralli/workdir/pipeline_v4/LOGS/samples_30kkreads.csv')"
   ]
  },
  {
   "cell_type": "code",
   "execution_count": 45,
   "metadata": {},
   "outputs": [
    {
     "name": "stdout",
     "output_type": "stream",
     "text": [
      "169\n",
      "[21055152, 21249862, 10340662, 6368936, 22550392, 20230422, 20726116, 23568256, 25633320, 23120528, 27424338, 28059916, 27335168, 19271338, 12391034, 12097184, 29825876, 27278138, 15132878, 24544954, 10460292, 17072272, 13655126, 12018798, 28359628, 21817672, 24316876, 23620078, 18285308, 2620908, 11726516, 28778550, 28014882, 25189330, 27360188, 26133194, 22117434, 15491672, 24375526, 27085998, 24372724]\n",
      "41\n"
     ]
    }
   ],
   "source": [
    "print (len(list_values))\n",
    "lower_30 = []\n",
    "for i in list_values:\n",
    "    if i < 30000000:\n",
    "        lower_30.append(i)\n",
    "print (lower_30)\n",
    "print (len(lower_30))"
   ]
  },
  {
   "cell_type": "code",
   "execution_count": 49,
   "metadata": {},
   "outputs": [
    {
     "data": {
      "text/plain": [
       "<seaborn.axisgrid.FacetGrid at 0x7ff21ec4ae50>"
      ]
     },
     "execution_count": 49,
     "metadata": {},
     "output_type": "execute_result"
    },
    {
     "data": {
      "image/png": "[encoded data removed]",
      "text/plain": [
       "<Figure size 360x360 with 1 Axes>"
      ]
     },
     "metadata": {
      "needs_background": "light"
     },
     "output_type": "display_data"
    }
   ],
   "source": [
    "sns.displot(list_values)\n"
   ]
  },
  {
   "cell_type": "code",
   "execution_count": 59,
   "metadata": {},
   "outputs": [
    {
     "data": {
      "image/png": "[encoded data removed]",
      "text/plain": [
       "<Figure size 360x360 with 1 Axes>"
      ]
     },
     "metadata": {},
     "output_type": "display_data"
    }
   ],
   "source": [
    "sns.displot(list_values)\n",
    "plt.axvline(x=30000000, c=\"red\")\n",
    "\n",
    "plt.show()"
   ]
  },
  {
   "cell_type": "code",
   "execution_count": 37,
   "metadata": {},
   "outputs": [
    {
     "data": {
      "text/html": [
       "<div>\n",
       "<style scoped>\n",
       "    .dataframe tbody tr th:only-of-type {\n",
       "        vertical-align: middle;\n",
       "    }\n",
       "\n",
       "    .dataframe tbody tr th {\n",
       "        vertical-align: top;\n",
       "    }\n",
       "\n",
       "    .dataframe thead th {\n",
       "        text-align: right;\n",
       "    }\n",
       "</style>\n",
       "<table border=\"1\" class=\"dataframe\">\n",
       "  <thead>\n",
       "    <tr style=\"text-align: right;\">\n",
       "      <th></th>\n",
       "      <th>IDs</th>\n",
       "      <th>TotalReads</th>\n",
       "      <th>Passed?</th>\n",
       "      <th>Phenotype</th>\n",
       "    </tr>\n",
       "  </thead>\n",
       "  <tbody>\n",
       "    <tr>\n",
       "      <th>0</th>\n",
       "      <td>R2809</td>\n",
       "      <td>34476986</td>\n",
       "      <td>Yes</td>\n",
       "      <td>Schizo</td>\n",
       "    </tr>\n",
       "    <tr>\n",
       "      <th>1</th>\n",
       "      <td>R2826</td>\n",
       "      <td>60779562</td>\n",
       "      <td>Yes</td>\n",
       "      <td>Control</td>\n",
       "    </tr>\n",
       "    <tr>\n",
       "      <th>2</th>\n",
       "      <td>R2828</td>\n",
       "      <td>82079232</td>\n",
       "      <td>Yes</td>\n",
       "      <td>Schizo</td>\n",
       "    </tr>\n",
       "    <tr>\n",
       "      <th>3</th>\n",
       "      <td>R2834</td>\n",
       "      <td>68803962</td>\n",
       "      <td>Yes</td>\n",
       "      <td>Schizo</td>\n",
       "    </tr>\n",
       "    <tr>\n",
       "      <th>4</th>\n",
       "      <td>R2836</td>\n",
       "      <td>12391034</td>\n",
       "      <td>No</td>\n",
       "      <td>Control</td>\n",
       "    </tr>\n",
       "    <tr>\n",
       "      <th>...</th>\n",
       "      <td>...</td>\n",
       "      <td>...</td>\n",
       "      <td>...</td>\n",
       "      <td>...</td>\n",
       "    </tr>\n",
       "    <tr>\n",
       "      <th>164</th>\n",
       "      <td>R5863</td>\n",
       "      <td>10460292</td>\n",
       "      <td>No</td>\n",
       "      <td>Control</td>\n",
       "    </tr>\n",
       "    <tr>\n",
       "      <th>165</th>\n",
       "      <td>R5868</td>\n",
       "      <td>31767848</td>\n",
       "      <td>Yes</td>\n",
       "      <td>Control</td>\n",
       "    </tr>\n",
       "    <tr>\n",
       "      <th>166</th>\n",
       "      <td>R5885</td>\n",
       "      <td>62490302</td>\n",
       "      <td>Yes</td>\n",
       "      <td>Control</td>\n",
       "    </tr>\n",
       "    <tr>\n",
       "      <th>167</th>\n",
       "      <td>R6533</td>\n",
       "      <td>40170560</td>\n",
       "      <td>Yes</td>\n",
       "      <td>Schizo</td>\n",
       "    </tr>\n",
       "    <tr>\n",
       "      <th>168</th>\n",
       "      <td>R6535</td>\n",
       "      <td>44172850</td>\n",
       "      <td>Yes</td>\n",
       "      <td>Schizo</td>\n",
       "    </tr>\n",
       "  </tbody>\n",
       "</table>\n",
       "<p>169 rows × 4 columns</p>\n",
       "</div>"
      ],
      "text/plain": [
       "       IDs  TotalReads Passed? Phenotype\n",
       "0    R2809    34476986     Yes    Schizo\n",
       "1    R2826    60779562     Yes   Control\n",
       "2    R2828    82079232     Yes    Schizo\n",
       "3    R2834    68803962     Yes    Schizo\n",
       "4    R2836    12391034      No   Control\n",
       "..     ...         ...     ...       ...\n",
       "164  R5863    10460292      No   Control\n",
       "165  R5868    31767848     Yes   Control\n",
       "166  R5885    62490302     Yes   Control\n",
       "167  R6533    40170560     Yes    Schizo\n",
       "168  R6535    44172850     Yes    Schizo\n",
       "\n",
       "[169 rows x 4 columns]"
      ]
     },
     "execution_count": 37,
     "metadata": {},
     "output_type": "execute_result"
    }
   ],
   "source": [
    "#Reading csv\n",
    "csv = pd.read_csv('/home/boralli/workdir/pipeline_v4/ANALYSES/samples_30kkreads.csv')"
   ]
  },
  {
   "cell_type": "code",
   "execution_count": 51,
   "metadata": {},
   "outputs": [
    {
     "data": {
      "image/png": "[encoded data removed]",
      "text/plain": [
       "<Figure size 431.875x360 with 1 Axes>"
      ]
     },
     "metadata": {
      "needs_background": "light"
     },
     "output_type": "display_data"
    }
   ],
   "source": [
    "sns.displot(csv,x = 'TotalReads', hue='Phenotype', multiple=\"dodge\")\n",
    "plt.axvline(x=30000000, c=\"red\")\n",
    "\n",
    "plt.show()"
   ]
  },
  {
   "cell_type": "code",
   "execution_count": 56,
   "metadata": {},
   "outputs": [
    {
     "data": {
      "text/html": [
       "<div>\n",
       "<style scoped>\n",
       "    .dataframe tbody tr th:only-of-type {\n",
       "        vertical-align: middle;\n",
       "    }\n",
       "\n",
       "    .dataframe tbody tr th {\n",
       "        vertical-align: top;\n",
       "    }\n",
       "\n",
       "    .dataframe thead th {\n",
       "        text-align: right;\n",
       "    }\n",
       "</style>\n",
       "<table border=\"1\" class=\"dataframe\">\n",
       "  <thead>\n",
       "    <tr style=\"text-align: right;\">\n",
       "      <th></th>\n",
       "      <th>IDs</th>\n",
       "      <th>TotalReads</th>\n",
       "      <th>Phenotype</th>\n",
       "    </tr>\n",
       "    <tr>\n",
       "      <th>Passed?</th>\n",
       "      <th></th>\n",
       "      <th></th>\n",
       "      <th></th>\n",
       "    </tr>\n",
       "  </thead>\n",
       "  <tbody>\n",
       "    <tr>\n",
       "      <th>No</th>\n",
       "      <td>41</td>\n",
       "      <td>41</td>\n",
       "      <td>41</td>\n",
       "    </tr>\n",
       "    <tr>\n",
       "      <th>Yes</th>\n",
       "      <td>128</td>\n",
       "      <td>128</td>\n",
       "      <td>128</td>\n",
       "    </tr>\n",
       "  </tbody>\n",
       "</table>\n",
       "</div>"
      ],
      "text/plain": [
       "         IDs  TotalReads  Phenotype\n",
       "Passed?                            \n",
       "No        41          41         41\n",
       "Yes      128         128        128"
      ]
     },
     "execution_count": 56,
     "metadata": {},
     "output_type": "execute_result"
    }
   ],
   "source": [
    "csv.groupby(['Passed?']).count()\n"
   ]
  },
  {
   "cell_type": "code",
   "execution_count": 60,
   "metadata": {},
   "outputs": [
    {
     "data": {
      "text/html": [
       "<div>\n",
       "<style scoped>\n",
       "    .dataframe tbody tr th:only-of-type {\n",
       "        vertical-align: middle;\n",
       "    }\n",
       "\n",
       "    .dataframe tbody tr th {\n",
       "        vertical-align: top;\n",
       "    }\n",
       "\n",
       "    .dataframe thead th {\n",
       "        text-align: right;\n",
       "    }\n",
       "</style>\n",
       "<table border=\"1\" class=\"dataframe\">\n",
       "  <thead>\n",
       "    <tr style=\"text-align: right;\">\n",
       "      <th></th>\n",
       "      <th>IDs</th>\n",
       "      <th>TotalReads</th>\n",
       "      <th>Passed?</th>\n",
       "    </tr>\n",
       "    <tr>\n",
       "      <th>Phenotype</th>\n",
       "      <th></th>\n",
       "      <th></th>\n",
       "      <th></th>\n",
       "    </tr>\n",
       "  </thead>\n",
       "  <tbody>\n",
       "    <tr>\n",
       "      <th>Control</th>\n",
       "      <td>80</td>\n",
       "      <td>80</td>\n",
       "      <td>80</td>\n",
       "    </tr>\n",
       "    <tr>\n",
       "      <th>Schizo</th>\n",
       "      <td>48</td>\n",
       "      <td>48</td>\n",
       "      <td>48</td>\n",
       "    </tr>\n",
       "  </tbody>\n",
       "</table>\n",
       "</div>"
      ],
      "text/plain": [
       "           IDs  TotalReads  Passed?\n",
       "Phenotype                          \n",
       "Control     80          80       80\n",
       "Schizo      48          48       48"
      ]
     },
     "execution_count": 60,
     "metadata": {},
     "output_type": "execute_result"
    }
   ],
   "source": [
    "csv_passed = csv[csv['Passed?']=='Yes']\n",
    "csv_passed.groupby(['Phenotype']).count()"
   ]
  }
 ],
 "metadata": {
  "kernelspec": {
   "display_name": "Python 3",
   "language": "python",
   "name": "python3"
  },
  "language_info": {
   "codemirror_mode": {
    "name": "ipython",
    "version": 3
   },
   "file_extension": ".py",
   "mimetype": "text/x-python",
   "name": "python",
   "nbconvert_exporter": "python",
   "pygments_lexer": "ipython3",
   "version": "3.8.5"
  }
 },
 "nbformat": 4,
 "nbformat_minor": 4
}
